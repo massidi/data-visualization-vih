{
  "nbformat": 4,
  "nbformat_minor": 0,
  "metadata": {
    "colab": {
      "provenance": []
    },
    "kernelspec": {
      "name": "python3",
      "display_name": "Python 3"
    },
    "language_info": {
      "name": "python"
    }
  },
  "cells": [
    {
      "cell_type": "code",
      "source": [
        "import pandas as pd\n",
        "from geopy.geocoders import Nominatim\n",
        "from geopy.extra.rate_limiter import RateLimiter\n",
        "\n",
        "# Initialisation du géolocalisateur avec un délai plus long et un limiteur de taux\n",
        "geolocator = Nominatim(user_agent=\"geoapi\", timeout=10)\n",
        "geocode = RateLimiter(geolocator.geocode, min_delay_seconds=1, max_retries=3)\n",
        "\n",
        "# Fonction pour obtenir les coordonnées\n",
        "def get_coordinates(country_name):\n",
        "    try:\n",
        "        location = geocode(country_name)\n",
        "        if location:\n",
        "            return location.latitude, location.longitude\n",
        "        else:\n",
        "            return None, None\n",
        "    except Exception as e:\n",
        "        print(f\"Erreur lors de la récupération des coordonnées pour {country_name}: {e}\")\n",
        "        return None, None\n",
        "\n",
        "# Chargement du fichier CSV original\n",
        "input_csv = \"/content/vih_no_of_cases_adults_15_to_49_by_country_clean.csv\"\n",
        "df_original = pd.read_csv(input_csv)\n",
        "\n",
        "# Extraction des noms uniques de pays (insensibles à la casse)\n",
        "unique_countries = df_original.iloc[:, 0].str.lower().drop_duplicates().str.replace(r\"\\(.*?\\)\", \"\", regex=True).str.strip()\n",
        "\n",
        "# Création d'un DataFrame pour les noms uniques de pays\n",
        "unique_countries_df = pd.DataFrame({'Country': unique_countries})\n",
        "\n",
        "# Ajout des colonnes Latitude et Longitude\n",
        "unique_countries_df[['Latitude', 'Longitude']] = unique_countries_df['Country'].apply(\n",
        "    lambda country: pd.Series(get_coordinates(country))\n",
        ")\n",
        "\n",
        "# Chargement des coordonnées dans un fichier temporaire (facultatif)\n",
        "output_csv = \"unique_country_coordinates.csv\"\n",
        "unique_countries_df.to_csv(output_csv, index=False)\n",
        "\n",
        "# Préparation des données pour la fusion (normalisation des noms de pays)\n",
        "df_original['Country_cleaned'] = df_original.iloc[:, 0].str.lower().str.replace(r\"\\(.*?\\)\", \"\", regex=True).str.strip()\n",
        "unique_countries_df.rename(columns={'Country': 'Country_cleaned'}, inplace=True)\n",
        "\n",
        "# Fusion des données originales avec les coordonnées\n",
        "df_merged = df_original.merge(unique_countries_df, on='Country_cleaned', how='left')\n",
        "\n",
        "# Suppression de la colonne temporaire\n",
        "df_merged.drop(columns=['Country_cleaned'], inplace=True)\n",
        "\n",
        "# Sauvegarde du fichier avec les coordonnées ajoutées\n",
        "output_with_coordinates = \"original_with_coordinates.csv\"\n",
        "df_merged.to_csv(output_with_coordinates, index=False)\n",
        "\n",
        "print(f\"Les coordonnées ont été ajoutées et enregistrées dans {output_with_coordinates}\")\n"
      ],
      "metadata": {
        "colab": {
          "base_uri": "https://localhost:8080/"
        },
        "id": "rSNoBJpVO3U6",
        "outputId": "5d3f5349-8041-443f-bf54-3e7bc9f6a04e"
      },
      "execution_count": null,
      "outputs": [
        {
          "output_type": "stream",
          "name": "stdout",
          "text": [
            "Les coordonnées ont été ajoutées et enregistrées dans original_with_coordinates.csv\n"
          ]
        }
      ]
    }
  ]
}